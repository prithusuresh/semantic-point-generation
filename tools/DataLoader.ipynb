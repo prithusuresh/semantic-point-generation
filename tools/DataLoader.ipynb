{
 "cells": [
  {
   "cell_type": "code",
   "execution_count": 11,
   "id": "ceb4344a",
   "metadata": {},
   "outputs": [],
   "source": [
    "#kkep imports here\n",
    "import argparse\n",
    "import datetime\n",
    "import glob\n",
    "import os\n",
    "from pathlib import Path\n",
    "from test import repeat_eval_ckpt\n",
    "import torch\n",
    "import torch.nn as nn\n",
    "from torch.utils.data import Dataset, DataLoader\n",
    "from pcdet.ops.voxel import Voxelization\n",
    "from pcdet.datasets import build_dataloader\n",
    "from pcdet.config import cfg, cfg_from_list, cfg_from_yaml_file, log_config_to_file\n",
    "from pcdet.utils import common_utils\n",
    "from tools.cfgs import dataset_configs\n",
    "from tools.cfgs import kitti_models"
   ]
  },
  {
   "cell_type": "code",
   "execution_count": 9,
   "id": "6c43b2ec",
   "metadata": {},
   "outputs": [],
   "source": [
    "dist_train = False\n",
    "output_dir = cfg.ROOT_DIR\n",
    "log_file = output_dir / ('log_train_%s.txt' % datetime.datetime.now().strftime('%Y%m%d-%H%M%S'))\n",
    "logger = common_utils.create_logger(log_file, rank=cfg.LOCAL_RANK)\n",
    "merge_all_iters_to_one_epoch = False\n",
    "workers = 8\n",
    "epochs = 50"
   ]
  },
  {
   "cell_type": "code",
   "execution_count": 15,
   "id": "0bf102df",
   "metadata": {},
   "outputs": [],
   "source": [
    "from pcdet.config import cfg, cfg_from_yaml_file\n",
    "from eval_utils.eval_utils import load_data_to_gpu\n",
    "import pickle\n",
    "cfg = cfg_from_yaml_file(\"cfgs/kitti_models/spg.yaml\", cfg)\n",
    "data_config = cfg.DATA_CONFIG"
   ]
  },
  {
   "cell_type": "code",
   "execution_count": 17,
   "id": "04de1806",
   "metadata": {},
   "outputs": [
    {
     "name": "stderr",
     "output_type": "stream",
     "text": [
      "2021-11-25 15:41:42,591   INFO  Database filter by min points Car: 14357 => 13532\n",
      "2021-11-25 15:41:42,591   INFO  Database filter by min points Car: 14357 => 13532\n",
      "2021-11-25 15:41:42,592   INFO  Database filter by min points Pedestrian: 2207 => 2168\n",
      "2021-11-25 15:41:42,592   INFO  Database filter by min points Pedestrian: 2207 => 2168\n",
      "2021-11-25 15:41:42,593   INFO  Database filter by min points Cyclist: 734 => 705\n",
      "2021-11-25 15:41:42,593   INFO  Database filter by min points Cyclist: 734 => 705\n",
      "2021-11-25 15:41:42,605   INFO  Database filter by difficulty Car: 13532 => 10759\n",
      "2021-11-25 15:41:42,605   INFO  Database filter by difficulty Car: 13532 => 10759\n",
      "2021-11-25 15:41:42,608   INFO  Database filter by difficulty Pedestrian: 2168 => 2075\n",
      "2021-11-25 15:41:42,608   INFO  Database filter by difficulty Pedestrian: 2168 => 2075\n",
      "2021-11-25 15:41:42,609   INFO  Database filter by difficulty Cyclist: 705 => 581\n",
      "2021-11-25 15:41:42,609   INFO  Database filter by difficulty Cyclist: 705 => 581\n",
      "2021-11-25 15:41:42,614   INFO  Loading KITTI dataset\n",
      "2021-11-25 15:41:42,614   INFO  Loading KITTI dataset\n",
      "2021-11-25 15:41:42,672   INFO  Total samples for KITTI dataset: 3712\n",
      "2021-11-25 15:41:42,672   INFO  Total samples for KITTI dataset: 3712\n"
     ]
    }
   ],
   "source": [
    "train_set, train_loader, train_sampler = build_dataloader(\n",
    "        dataset_cfg=data_config,\n",
    "        class_names=cfg.CLASS_NAMES,\n",
    "        batch_size=4,\n",
    "        dist=dist_train, workers=workers,\n",
    "        logger=logger,\n",
    "        training=True,\n",
    "        merge_all_iters_to_one_epoch=merge_all_iters_to_one_epoch,\n",
    "        total_epochs=epochs\n",
    "    )"
   ]
  },
  {
   "cell_type": "code",
   "execution_count": null,
   "id": "cb539561",
   "metadata": {},
   "outputs": [],
   "source": [
    "train_set[0][\"gt_classification\"] = np.zeros(train_set[\"batch_size\"], train_set[\"voxel_num_points\"][0])\n"
   ]
  },
  {
   "cell_type": "code",
   "execution_count": 41,
   "id": "d634f55f",
   "metadata": {},
   "outputs": [
    {
     "data": {
      "text/plain": [
       "dict_keys(['frame_id', 'gt_boxes', 'points', 'use_lead_xyz', 'voxels', 'voxel_coords', 'voxel_num_points', 'image_shape'])"
      ]
     },
     "execution_count": 41,
     "metadata": {},
     "output_type": "execute_result"
    }
   ],
   "source": [
    "train_set[0].keys()"
   ]
  },
  {
   "cell_type": "code",
   "execution_count": 45,
   "id": "cd4e9ad1",
   "metadata": {},
   "outputs": [
    {
     "data": {
      "text/plain": [
       "(4052, 32, 4)"
      ]
     },
     "execution_count": 45,
     "metadata": {},
     "output_type": "execute_result"
    }
   ],
   "source": [
    "train_set[0][\"voxels\"].shape"
   ]
  },
  {
   "cell_type": "code",
   "execution_count": 44,
   "id": "7125bd40",
   "metadata": {},
   "outputs": [
    {
     "data": {
      "text/plain": [
       "array([ 4.7128134,  7.1744437, -0.0765012,  0.27     ], dtype=float32)"
      ]
     },
     "execution_count": 44,
     "metadata": {},
     "output_type": "execute_result"
    }
   ],
   "source": [
    "train_set[0][\"voxels\"][0][0]"
   ]
  },
  {
   "cell_type": "code",
   "execution_count": 51,
   "id": "f9e335e5",
   "metadata": {},
   "outputs": [
    {
     "data": {
      "text/plain": [
       "(31, 8)"
      ]
     },
     "execution_count": 51,
     "metadata": {},
     "output_type": "execute_result"
    }
   ],
   "source": [
    "train_set[0][\"gt_boxes\"].shape"
   ]
  },
  {
   "cell_type": "code",
   "execution_count": 52,
   "id": "0e6e5341",
   "metadata": {},
   "outputs": [
    {
     "data": {
      "text/plain": [
       "array([ 8.365651  ,  3.2791002 , -0.65901995,  1.2079192 ,  0.48316765,\n",
       "        1.9024727 , -0.9977898 ,  2.        ], dtype=float32)"
      ]
     },
     "execution_count": 52,
     "metadata": {},
     "output_type": "execute_result"
    }
   ],
   "source": [
    "train_set[0][\"gt_boxes\"][0]"
   ]
  },
  {
   "cell_type": "code",
   "execution_count": 50,
   "id": "d86145e9",
   "metadata": {},
   "outputs": [
    {
     "data": {
      "text/plain": [
       "array([ 14.355981 , -11.07246  ,  -0.8205786,   0.41     ], dtype=float32)"
      ]
     },
     "execution_count": 50,
     "metadata": {},
     "output_type": "execute_result"
    }
   ],
   "source": [
    "train_set[0][\"points\"][0]\n"
   ]
  }
 ],
 "metadata": {
  "kernelspec": {
   "display_name": "Python 3",
   "language": "python",
   "name": "python3"
  },
  "language_info": {
   "codemirror_mode": {
    "name": "ipython",
    "version": 3
   },
   "file_extension": ".py",
   "mimetype": "text/x-python",
   "name": "python",
   "nbconvert_exporter": "python",
   "pygments_lexer": "ipython3",
   "version": "3.8.10"
  }
 },
 "nbformat": 4,
 "nbformat_minor": 5
}
